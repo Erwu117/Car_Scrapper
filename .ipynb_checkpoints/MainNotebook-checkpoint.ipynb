{
 "cells": [
  {
   "cell_type": "code",
   "execution_count": 19,
   "id": "3b9b6141-51cf-4c68-a738-410cbf91e5ad",
   "metadata": {},
   "outputs": [],
   "source": [
    "from selenium import webdriver\n",
    "from selenium.webdriver.support.ui import WebDriverWait\n",
    "from selenium.webdriver.support import expected_conditions as EC\n",
    "from selenium.webdriver.chrome.service import Service\n",
    "from selenium.webdriver.chrome.options import Options\n",
    "from selenium.webdriver.common.keys import Keys\n",
    "from selenium.webdriver.common.by import By\n",
    "from selenium.common.exceptions import (\n",
    "    TimeoutException,\n",
    "    NoSuchElementException,\n",
    "    ElementClickInterceptedException,\n",
    "    StaleElementReferenceException,\n",
    "    ElementNotInteractableException\n",
    ")\n",
    "import time\n",
    "import pandas as pd\n",
    "import re\n",
    "driver_path = \"./driver/chromedriver.exe\" \n",
    "opt = Options()\n",
    "opt.add_argument(\"--enable-javascript\")  \n",
    "opt.add_argument(\"--headless\")  \n",
    "opt.add_argument(\"--disable-infobars\") \n",
    "opt.add_argument(\"--disable-extensions\") \n",
    "opt.add_argument(\"--disable-blink-features=AutomationControlled\")  \n",
    "service = Service(driver_path)\n",
    "\n",
    "url = \"https://philkotse.com/used-cars-for-sale/p{}\"\n",
    "driver = webdriver.Chrome(service=service, options=opt)\n"
   ]
  },
  {
   "cell_type": "code",
   "execution_count": 20,
   "id": "2d6f1fff-d525-41c7-b675-e26e39f96c06",
   "metadata": {},
   "outputs": [
    {
     "name": "stdout",
     "output_type": "stream",
     "text": [
      "Scrapping page 1: https://philkotse.com/used-cars-for-sale/p1\n",
      "Scrapping page 2: https://philkotse.com/used-cars-for-sale/p2\n",
      "Scrapping page 3: https://philkotse.com/used-cars-for-sale/p3\n",
      "Scrapping page 4: https://philkotse.com/used-cars-for-sale/p4\n",
      "Scrapping page 5: https://philkotse.com/used-cars-for-sale/p5\n"
     ]
    }
   ],
   "source": [
    "car_data = {}\n",
    "cleaned_car_data = {}\n",
    "for page in range(1,6):\n",
    "    b_url = url.format(page)\n",
    "    driver.get(b_url)\n",
    "    print(f\"Scrapping page {page}: {b_url}\")\n",
    "    col_blocks = driver.find_elements(By.CLASS_NAME, \"col-4\")\n",
    "    for car in col_blocks:\n",
    "        title = car.get_attribute(\"data-title\")\n",
    "        if not title or not isinstance(title, str):\n",
    "            continue\n",
    "        # car_title.append(title)\n",
    "        cleaned_title = re.split(r'[^\\w\\s\\d\\-\\.\\/]',title)[0].strip() \n",
    "        price = car.find_element(By.CSS_SELECTOR, \".price\").text\n",
    "        if not price:\n",
    "            continue\n",
    "        # prices.append(price)\n",
    "        car_data[title] = price\n",
    "        cleaned_car_data[cleaned_title] = price\n",
    "    time.sleep(1)"
   ]
  },
  {
   "cell_type": "code",
   "execution_count": 21,
   "id": "afafef2f-2c62-4068-8804-c5a6de246573",
   "metadata": {},
   "outputs": [
    {
     "name": "stdout",
     "output_type": "stream",
     "text": [
      "2016 Toyota Fortuner G 2.7 AT Gas 219K ALL IN - ₱848,000\n",
      "Nissan NV350 2018 2.5 Premium Automatic - ₱1,050,000\n",
      "Toyota Innova 2017 2.0 G Gas Automatic - ₱755,000\n",
      "Subaru Forester 2015 2.0i Premium W/Sunroof 50K KM Automatic - ₱520,000\n",
      "Nissan Terra 2019 2.5 VL Automatic - ₱1,090,000\n",
      "Ford Everest 2016 3.2 Titanium 4x4 W/Sunroof Automatic - ₱890,000\n",
      "Mitsubishi Montero Sport 2018 2.4 GLS Automatic - ₱930,000\n",
      "Toyota Raize 2023 1.2 G 8K KM Automatic - ₱795,000\n",
      "Ford Everest 2018 3.2 Titanium Plus 4x4 W/ Sunroof Casa Maintained Automatic - ₱1,090,000\n",
      "Honda BR-V 2019 1.5 V 20K KM Automatic - ₱730,000\n",
      "Selling White 2024 Ford Territory SUV / Crossover by verified seller - ₱1,158,000\n",
      "2024 Toyota Hiace  Commuter 3.0 M/T for sale by Verified seller - ₱1,228,000\n",
      "FOR SALE - ₱1,088,000\n",
      "almost new 2024 Mitsubishi Mirage G4  GLS 1.2 CVT for sale in good condition - ₱550,000\n",
      "Pre-owned Brightsilver 2021 Toyota Wigo  1.0 G AT for sale - ₱428,000\n",
      "2024 Toyota Fortuner  2.4 G Diesel 4x2 AT for sale by Trusted seller - ₱1,568,000\n",
      "Well kept 2023 Toyota Rush G GR-S 1.5 AT for sale - ₱898,000\n",
      "Hot deal alert - ₱658,000\n",
      "HOT - ₱578,000\n",
      "Pre-owned 2020 Toyota Innova  2.8 V Diesel AT for sale - ₱1,028,000\n",
      "2024 Toyota Avanza  1.3 E A/T for sale by Trusted seller - ₱838,000\n",
      "Sell pre-owned 2022 Mitsubishi Mirage  GLX 1.2 CVT - ₱438,000\n",
      "Pre-owned Orange 2023 Mitsubishi Strada Athlete 4WD AT for sale - ₱1,258,000\n",
      "Black 2024 Hyundai Stargazer GLS 1.5 IVT  for sale - ₱818,000\n",
      "Pre-owned 2024 Toyota Vios 1.3 XE CVT for sale - ₱568,000\n",
      "2023 Toyota Hilux Conquest 2.4 4x2 AT for sale by Verified seller - ₱1,318,000\n",
      "RUSH sale - ₱1,068,000\n",
      "Red 2024 Toyota Innova 2.8 XE Diesel AT  for sale - ₱1,068,000\n",
      "2012 Toyota Fortuner 4x2 Automatic - ₱625,000\n",
      "2014 Subaru Forester 2.0iP AWD AT - ₱498,000\n",
      "2020 Ford Ranger Raptor 2.0 Bi-Turbo 4x4 A/T Diesel - ₱1,278,000\n",
      "2023 Toyota Vios 1.3 XLE Automatic Gas - ₱618,000\n",
      "2019 Hyundai Grand Starex Urban Exclusive Diesel A/T - ₱1,458,000\n",
      "2018 Honda Civic 1.8 E Automatic Gaa - ₱768,000\n",
      "2024 Toyota Rush GRS 1.5 Gas Automatic - ₱948,000\n",
      "Mitsubishi Montero Sport 2016 2.5 GT 4X4 Loaded Automatic - ₱960,000\n",
      "Toyota Alphard 2018 3.5 20K KM Automatic - ₱2,670,000\n",
      "Ford Mustang 2015 5.0 GT 18K KM Automatic - ₱1,970,000\n",
      "Toyota Camry 2019 2.5 V 30K KM Lexux Look Automatic - ₱1,290,000\n",
      "Toyota Raize 2022 1.0 Turbo Automatic - ₱830,000\n",
      "Honda City 2016 1.5 VX Automatic - ₱520,000\n",
      "Ford Everest 2016 2.2 Ambiente Automatic - ₱670,000\n",
      "Hyundai Venue 2022 1.6 GL Automatic - ₱690,000\n",
      "Toyota Innova 2019 2.8 E Diesel Automatic - ₱830,000\n",
      "Ford Ecosport 2021 Acq. 1.0 Titanium Automatic - ₱580,000\n",
      "Kia Sportage 2018 GT Diesel Automatic - ₱750,000\n",
      "Kia Rio 2014 1.4 EX Automatic - ₱315,000\n",
      "Ford Territory 2021 1.5 Titanium 20K KM Automatic - ₱810,000\n",
      "Hyundai Tucson 2019 2.0 CRDI Diesel Automatic - ₱760,000\n",
      "Honda Civic 2016 1.8 E Automatic - ₱690,000\n",
      "Honda BR-V 2017 1.5 V Push Start Automatic - ₱620,000\n",
      "Toyota FJ Cruiser 2016 4.0 4x4 Loaded Automatic - ₱1,620,000\n",
      "Kia Picanto 2016 1.2 EX Automatic - ₱340,000\n",
      "Honda HR-V 2017 1.8 EL 30K KM Automatic - ₱670,000\n",
      "Nissan Navara 2017 2.5 EL Sport Automatic - ₱790,000\n",
      "Kia Carens 2014 1.7 EX W/Sunroof Automatic - ₱460,000\n",
      "Hyundai Accent 2020 1.4 GL 30K KM Automatic - ₱480,000\n",
      "Mazda CX-3 2017 2.0 Sport AWD Automatic - ₱590,000\n",
      "Hyundai Kona 2020 2.0 GLS Automatic - ₱580,000\n",
      "Suzuki Ertiga 2019 1.5 GL Automatic - ₱565,000\n",
      "Honda Brio 2022 1.2 V 17K KM Automatic - ₱595,000\n",
      "Ford Ecosport 2019 1.0 Titanium 30K KM Automatic - ₱540,000\n",
      "Chevrolet Trax 2019 Acquired 2017 Model 1.4 LS Automatic - ₱410,000\n",
      "Toyota Rush 2018 1.5 E Automatic Automatic - ₱640,000\n",
      "Hyundai Tucson 2016 2.0 GLS Push Start Diesel Automatic - ₱610,000\n",
      "2016 Nissan Juke 1.6 CVT Gas Automatic - ₱478,000\n",
      "2024 Mitsubishi Montero Sport GLX 2.4L M/T Diesel - ₱1,148,000\n",
      "2020 Toyota Hiace GL Grandia 2.8L Diesel M/T for Sale - ₱1,628,000\n",
      "Geely Coolray 2021 1.5 Sport W/Sunroof Automatic - ₱640,000\n",
      "Toyota Hiace Grandia 2018 3.0 GL Automatic - ₱1,330,000\n",
      "Suzuki Ertiga 2023 1.5 Hybrid GL Save 400K From Brand New 10K KM Automatic - ₱795,000\n",
      "Mitsubishi Xpander 2019 1.5 GLX Plus Automatic - ₱650,000\n",
      "Suzuki Ertiga 2024 1.5 Hybrid GLX Save 300K From Brand New 7K KM Automatic - ₱890,000\n",
      "Mitsubishi Montero Sport 2018 Acquired 2.4 GLS Automatic - ₱895,000\n",
      "Toyota Fortuner 2017 2.4 V Diesel 30K KM Automatic - ₱1,170,000\n",
      "2024 Toyota Rush GRS 1.5 Gas AT - ₱948,000\n",
      "Ford Everest 2016 3.2 Titanium 4x4 Automatic - ₱830,000\n",
      "Nissan NV350 2019 2.5 Urvan Manual - ₱790,000\n",
      "Isuzu MU-X 2017 3.0 LS-A Automatic - ₱790,000\n",
      "Ford Ranger 2022 2.2 FX4 Automatic - ₱920,000\n",
      "Toyota Fortuner 2017 2.4 V Diesel Automatic - ₱1,150,000\n",
      "Suzuki Grand Vitara 2015 2.4 GL Automatic - ₱450,000\n",
      "Nissan Juke 2019 1.6 CVT 20K KM Automatic - ₱530,000\n",
      "Suzuki APV 2014 1.6 SGX Automatic - ₱380,000\n",
      "Mitsubishi Montero Sport 2013 2.4 GLS V Automatic - ₱640,000\n",
      "Mazda 3 2016 1.5 Skyactive Automatic - ₱480,000\n",
      "Toyota Yaris 2016 1.3 E Automatic - ₱490,000\n",
      "Toyota Rush 2020 1.5 E Casa Maintained Automatic - ₱695,000\n",
      "Ford Everest 2019 Acquired 2.2 Titanium Plus W/Sunroof Automatic - ₱970,000\n"
     ]
    }
   ],
   "source": [
    "for key, value in cleaned_car_data.items():\n",
    "    print(f'{key} - {value}')"
   ]
  },
  {
   "cell_type": "code",
   "execution_count": 11,
   "id": "1ff96cdd-6b0b-4388-9c73-5cf88b05c005",
   "metadata": {},
   "outputs": [
    {
     "data": {
      "text/plain": [
       "dict_items([('🔥2023 Next Gen Ford Everest Limited 2.0 4x2 AT Diesel🔥', '₱1,618,000'), ('2019 Toyota Hi-Ace Super Grandia 3.0 Leather AT Diesel✅📞☎️CALL CARL BONNEVIE☎️09384588779', '₱1,388,000'), ('Nissan Terra 2019 2.5 VL Automatic ', '₱1,060,000'), ('Ford Territory 2021 1.5 Titanium  Automatic', '₱790,000'), ('Honda Mobilio 2016 1.5 V Automatic', '₱520,000'), ('Toyota Wigo 2020 1.0 G Automatic', '₱440,000'), ('Honda Civic 2018 1.8 E Automatic', '₱770,000'), ('Toyota Vios 2018 1.3 E Automatic', '₱460,000'), ('Suzuki Dzire 2020 1.2 GA Manual', '₱340,000'), ('Toyota Rush 2021 1.5 G 25KM Automatic', '₱820,000'), ('Toyota Rush 2020 1.5 G Automatic', '₱770,000'), ('Honda Brio 2016 1.3 Hatchback Automatic', '₱395,000'), ('Nissan Navara 2022 2.5 Pro 4x 4x4 Automatic ', '₱1,295,000'), ('Toyota Vios 2013 1.3 E Automatic', '₱395,000'), ('Geely Okavango 2021 1.5 Urban Titanium Automatic', '₱790,000'), ('Honda CR-V 2015 2.4 AWD Automatic', '₱640,000'), ('Mazda CX-5 2016 2.0 Skyactiv Automatic', '₱630,000'), ('Honda City 2022 1.5 S Automatic ', '₱690,000'), ('Kia Grand Carnival 2018 2.2 EX Automatic', '₱880,000'), ('Mitsubishi Montero Sport 2014 2.4 GLS V Automatic', '₱660,000'), ('Honda BR-V 2020 1.5 S Automatic ', '₱695,000'), ('Honda Mobilio 2017 Acquired 1.5 V Automatic ', '₱540,000'), ('Suzuki Celerio 2018 1.0 Manual', '₱305,000'), ('2016 Ford Explorer 2.3 4x2 Ecoboost Automatic Gasoline ✅📞☎️CALL/TEXT CARL BONNEVIE ☎️ 📩09384588779', '₱818,000 ₱838,000'), ('Suzuki Dzire 2019 1.2 GL Automatic', '₱390,000'), ('Toyota Hiace 2022 3.0 Commuter Manual', '₱1,130,000'), ('Ford EcoSport 2019 1.5 Trend Automatic', '₱440,000'), ('Subaru XV 2020 2.0i S Eyesight Automatic', '₱820,000'), ('Honda Civic 2018 Acquired 1.5 RS Turbo Automatic ', '₱860,000'), ('Suzuki Vitara 2018 1.6 GLX W/Sunroof Automatic', '₱655,000'), ('Kia Grand Carnival 2016 2.2 EX Captain Seat W/Sunroof Automatic', '₱890,000'), ('Honda CR-V 2017 2.0 S Push Start Automatic', '₱1,150,000'), ('Suzuki Ertiga 2020 1.5 GL Automatic', '₱620,000'), ('Subaru XV 2018 2.0i S Eyesight Automatic', '₱695,000'), ('Hyundai Kona 2020 2.0 GLS Automatic ', '₱570,000'), ('Honda Civic 2013 1.8 E Automatic', '₱430,000'), ('Hyundai Tucson 2018 2.0 CRDI Diesel Automatic ', '₱675,000'), ('Honda Mobilio 2019 Acquired 1.5 V 30K KM Automatic ', '₱580,000'), ('Toyota Wigo 2019 1.0 G Automatic', '₱420,000'), ('Ford Territory 2022 1.5 Titanium Plus 20K KM Automatic', '₱790,000'), ('Toyota Rush 2019 1.5 G Automatic', '₱715,000'), ('Suzuki Swift 2019 1.3 GL 30K KM Automatic', '₱460,000'), ('Toyota Hiace Super Grandia 2018 3.0 Customized Captain Seats Automatic', '₱1,590,000'), ('Mitsubishi Montero Sport 2020 2.4 GLX Manual', '₱980,000'), ('Mitsubishi Xpander 2019 1.5 GLS Push Start Automatic', '₱680,000'), ('Jeep Renegade 2021 Acquired 1.4 Longitude W/Sunroof Automatic', '₱840,000'), ('Chevrolet Spark 2017 1.4 LT 30K KM Automatic', '₱350,000'), ('Toyota Rav4 2013 2.5 Active Automatic', '₱530,000'), ('Nissan NV350 2020 2.5 Urvan Manual', '₱830,000'), ('Mitsubishi Montero Sport 2019 2.4 GLS Premium Automatic ', '₱995,000'), ('Toyota Hilux 2019 2.5 G Automatic', '₱970,000'), ('Kia Seltos 2020 2.0 EX Automatic', '₱720,000'), ('2017 Ford Everest Trend 4x2 2.2 Diesel‼️🔥 PM OR CALL 09121061462 MABY LATIDO📲☎️📩', '₱748,000'), ('2022 Ford Territory Titanium 1.5 Gas Automatic‼️🔥 PM OR CALL 09121061462 MABY LATIDO📲☎️📩', '₱788,000'), ('2019 Subaru Forester 2.0 XT AWD Automatic Gas‼️🔥 PM OR CALL 09121061462 MABY LATIDO📲☎️📩', '₱818,000'), ('2015 Chevrolet Trailblazer LT 4x2 Diesel Automatic‼️138K ALL IN DP🔥 09121061462 MABY LATIDO📲☎️📩', '₱598,000'), ('2021 Toyota Vios XLE 1.3 Automatic Gas 126K ALL IN‼️🔥 09121061462 MABY LATIDO📲☎️📩', '₱548,000'), ('Geely Coolray 2020 1.5 Sport W/Sunroof Automatic', '₱610,000'), ('2023 Mitsubishi Mirage G4 GLX 1.2L AT', '₱568,000'), ('2019 Subaru XV Eyesight I-S 2.0 AWD Top of the Line Low Mileage 27k Only‼️🔥 09121061462 MABY L 📲', '₱748,000'), ('MG ZS 2021 1.5 Alpha Automatic', '₱545,000'), ('2021 Toyota Vios XLE 1.3 Automatic Gas ✅️126K ALL-IN DP ☎️0935 600 3692 JAN RAY DE JESUS', '₱548,000 ₱568,000'), ('2019 Nissan Terra 2.5 VL 4x4 Automatic Diesel ✅️300K ALL-IN DP ☎️0935 600 3692 JAN RAY DE JESUS', '₱1,168,000'), ('2019 Ford Raptor 4x4 2.0 Diesel Automatic ✅️353K ALL-IN DP ☎️0935 600 3692 JAN RAY DE JESUS', '₱1,248,000'), ('2018 Peugeot 5008 Allure 1.6 Gas Automatic ✅️195K ALL-IN DP ☎️0935 600 3692 JAN RAY DE JESUS', '₱798,000'), ('2018 Toyota Fortuner 4x2 G Automatic Diesel ✅️267K ALL-IN DP ☎️0935 600 3692 JAN RAY DE JESUS', '₱1,078,000'), ('2019 Ford Ecosport 1.5 Trend AT Gas ✅📞☎️CALL/TEXT CARL BONNEVIE ☎️ 📩09384588779', '₱478,000'), ('2019 Ford Ecosport 1.5 Trend Gas Automatic ☎️Call/Text CARL BONNEVIE 🙋🏻\\u200d♂️📩09384588779', '₱478,000'), ('2017 BMW X1 2.0d Automatic ', '₱1,250,000'), ('2024 Ford Territory Titanium X 1.5 Gas AT Like New! ✅📞☎️CALL/TEXT CARL BONNEVIE ☎️ 📩09384588779', '₱1,248,000'), ('2021 Toyota Vios XLE 1.3 Automatic Gas ☎️Call/Text CARL BONNEVIE 🙋🏻\\u200d♂️📩09384588779', '₱548,000'), ('2024 Ford Territory Titanium 1.5 Gas AT Like New! ☎️Call/Text CARL BONNEVIE 🙋🏻\\u200d♂️📩09384588779', '₱998,000'), ('2016 Volkswagen Jetta 1.6 Diesel Automatic ☎️Call/Text CARL BONNEVIE 🙋🏻\\u200d♂️📩09384588779', '₱398,000'), ('2017 Ford Everest Trend 4x2 2.2 Diesel Automatic ☎️Call/Text CARL BONNEVIE 🙋🏻\\u200d♂️📩09384588779', '₱748,000'), ('2022 Ford Territory Titanium 1.5 Gas Automatic ☎️Call/Text CARL BONNEVIE 🙋🏻\\u200d♂️📩09384588779', '₱788,000'), ('2019 Subaru Forester 2.0 XT AWD Automatic Gas ☎️Call/Text CARL BONNEVIE 🙋🏻\\u200d♂️📩09384588779', '₱818,000'), ('2021 Geely Okavango Urban 1.5 Gas AT ✅ 28K Mileage ☎️Call/Text CARL BONNEVIE 🙋🏻\\u200d♂️📩09384588779', '₱798,000'), ('Toyota Innova 2023 2.8 E Diesel Automatic', '₱1,090,000'), ('HOT!!!!! 2021 Toyota Hiace GL Grandia for sale at affordable price!', '₱1,678,000'), ('✅223K ALL IN DP✅2020 Jeep Renegade Longitude 1.4 Gas Automatic📲JONNALYN 09695949924', '₱888,000'), ('✅98K ALL IN DP✅2018  NISSAN JUKE 1.6L Gas CVT Automatic📲JONNALYN 09695949924', '₱538,000'), ('✅369K ALL IN DP✅2019 Hyundai Grand Starex Urban Exclusive Diesel Automatic📲JONNALYN 09695949924', '₱1,458,000'), ('✅164K ALL IN DP✅2024 Suzuki Ertiga GL Hybrid Automatic Gas 3k odo!📲JONNALYN 09695949924', '₱858,000'), ('✅226K ALL IN DP✅2017 Toyota Fortuner  2.4 G Diesel 4x2 MT 📲JONNALYN 09695949924', '₱868,000'), ('✅49K ALL IN DP✅2020 Honda Brio V Automatic Gas📲JONNALYN 09695949924', '₱548,000'), ('✅147K ALL IN DP✅2025 Honda City 1.5 S CVT AT GAS (4k Mileage BNew Condition)📲JONNALYN 09695949924', '₱848,000'), ('✅169K ALL IN DP✅2017 Subaru Forester 2.0 XT 33k mileage w/ full CASA records!📲JONNALYN 09695949924', '₱798,000'), ('Kia Stonic 2022 1.4 LX 20K KM Automatic', '₱640,000'), ('Ford Ecosport 2020 Acq 1.5 Titanium Automatic', '₱510,000')])"
      ]
     },
     "execution_count": 11,
     "metadata": {},
     "output_type": "execute_result"
    }
   ],
   "source": [
    "car_data.items()"
   ]
  },
  {
   "cell_type": "code",
   "execution_count": null,
   "id": "89eb10c1-c0b1-4814-8b56-3f47bc958dea",
   "metadata": {},
   "outputs": [],
   "source": []
  }
 ],
 "metadata": {
  "kernelspec": {
   "display_name": "Python 3 (ipykernel)",
   "language": "python",
   "name": "python3"
  },
  "language_info": {
   "codemirror_mode": {
    "name": "ipython",
    "version": 3
   },
   "file_extension": ".py",
   "mimetype": "text/x-python",
   "name": "python",
   "nbconvert_exporter": "python",
   "pygments_lexer": "ipython3",
   "version": "3.12.8"
  }
 },
 "nbformat": 4,
 "nbformat_minor": 5
}
